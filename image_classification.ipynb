{
  "nbformat": 4,
  "nbformat_minor": 0,
  "metadata": {
    "colab": {
      "provenance": []
    },
    "kernelspec": {
      "name": "python3",
      "display_name": "Python 3"
    },
    "language_info": {
      "name": "python"
    }
  },
  "cells": [
    {
      "cell_type": "code",
      "execution_count": 1,
      "metadata": {
        "colab": {
          "base_uri": "https://localhost:8080/"
        },
        "id": "JGua_g6ou467",
        "outputId": "72296c01-372b-412a-d6ca-e6cc058281fb"
      },
      "outputs": [
        {
          "output_type": "stream",
          "name": "stdout",
          "text": [
            "Downloading data from https://www.cs.toronto.edu/~kriz/cifar-10-python.tar.gz\n",
            "170498071/170498071 [==============================] - 11s 0us/step\n"
          ]
        }
      ],
      "source": [
        "import tensorflow as tf\n",
        "from tensorflow.keras.datasets import cifar10\n",
        "from sklearn.model_selection import train_test_split\n",
        "from sklearn.preprocessing import OneHotEncoder\n",
        "\n",
        "# Load CIFAR-10 dataset\n",
        "(x_train, y_train), (x_test, y_test) = cifar10.load_data()\n",
        "\n",
        "# Normalize pixel values\n",
        "x_train, x_test = x_train / 255.0, x_test / 255.0\n",
        "\n",
        "# Split training set into training and validation sets\n",
        "x_train, x_val, y_train, y_val = train_test_split(x_train, y_train, test_size=0.2, random_state=42)\n",
        "\n",
        "# One-hot encode labels\n",
        "encoder = OneHotEncoder()\n",
        "y_train = encoder.fit_transform(y_train.reshape(-1, 1)).toarray()\n",
        "y_val = encoder.transform(y_val.reshape(-1, 1)).toarray()\n",
        "y_test = encoder.transform(y_test.reshape(-1, 1)).toarray()\n"
      ]
    },
    {
      "cell_type": "code",
      "source": [
        "from tensorflow.keras.models import Sequential\n",
        "from tensorflow.keras.layers import Conv2D, MaxPooling2D, Flatten, Dense, Dropout\n",
        "\n",
        "# Define model architecture\n",
        "model = Sequential([\n",
        "    Conv2D(32, (3, 3), activation='relu', input_shape=(32, 32, 3)),\n",
        "    MaxPooling2D((2, 2)),\n",
        "    Conv2D(64, (3, 3), activation='relu'),\n",
        "    MaxPooling2D((2, 2)),\n",
        "    Conv2D(64, (3, 3), activation='relu'),\n",
        "    Flatten(),\n",
        "    Dense(64, activation='relu'),\n",
        "    Dropout(0.5),\n",
        "    Dense(10, activation='softmax')\n",
        "])\n",
        "\n",
        "# Compile model\n",
        "model.compile(optimizer='adam',\n",
        "              loss='categorical_crossentropy',\n",
        "              metrics=['accuracy'])\n",
        "\n",
        "# Print model summary\n",
        "model.summary()\n"
      ],
      "metadata": {
        "colab": {
          "base_uri": "https://localhost:8080/"
        },
        "id": "tbF80uHgvFzJ",
        "outputId": "1b1a40db-dcd8-4d3f-e7c6-4c3016325432"
      },
      "execution_count": 2,
      "outputs": [
        {
          "output_type": "stream",
          "name": "stdout",
          "text": [
            "Model: \"sequential\"\n",
            "_________________________________________________________________\n",
            " Layer (type)                Output Shape              Param #   \n",
            "=================================================================\n",
            " conv2d (Conv2D)             (None, 30, 30, 32)        896       \n",
            "                                                                 \n",
            " max_pooling2d (MaxPooling2  (None, 15, 15, 32)        0         \n",
            " D)                                                              \n",
            "                                                                 \n",
            " conv2d_1 (Conv2D)           (None, 13, 13, 64)        18496     \n",
            "                                                                 \n",
            " max_pooling2d_1 (MaxPoolin  (None, 6, 6, 64)          0         \n",
            " g2D)                                                            \n",
            "                                                                 \n",
            " conv2d_2 (Conv2D)           (None, 4, 4, 64)          36928     \n",
            "                                                                 \n",
            " flatten (Flatten)           (None, 1024)              0         \n",
            "                                                                 \n",
            " dense (Dense)               (None, 64)                65600     \n",
            "                                                                 \n",
            " dropout (Dropout)           (None, 64)                0         \n",
            "                                                                 \n",
            " dense_1 (Dense)             (None, 10)                650       \n",
            "                                                                 \n",
            "=================================================================\n",
            "Total params: 122570 (478.79 KB)\n",
            "Trainable params: 122570 (478.79 KB)\n",
            "Non-trainable params: 0 (0.00 Byte)\n",
            "_________________________________________________________________\n"
          ]
        }
      ]
    },
    {
      "cell_type": "code",
      "source": [
        "# Train the model\n",
        "history = model.fit(x_train, y_train, epochs=10, validation_data=(x_val, y_val))\n",
        "\n",
        "# Evaluate model on test set\n",
        "test_loss, test_accuracy = model.evaluate(x_test, y_test)\n",
        "print(\"Test Accuracy:\", test_accuracy)"
      ],
      "metadata": {
        "colab": {
          "base_uri": "https://localhost:8080/"
        },
        "id": "eKULb1RqvKG-",
        "outputId": "ef88a6e8-4007-4bb1-f6dc-338e28c224ff"
      },
      "execution_count": 3,
      "outputs": [
        {
          "output_type": "stream",
          "name": "stdout",
          "text": [
            "Epoch 1/10\n",
            "1250/1250 [==============================] - 55s 43ms/step - loss: 1.8157 - accuracy: 0.3211 - val_loss: 1.4534 - val_accuracy: 0.4826\n",
            "Epoch 2/10\n",
            "1250/1250 [==============================] - 52s 41ms/step - loss: 1.4434 - accuracy: 0.4775 - val_loss: 1.2965 - val_accuracy: 0.5387\n",
            "Epoch 3/10\n",
            "1250/1250 [==============================] - 53s 42ms/step - loss: 1.3012 - accuracy: 0.5378 - val_loss: 1.1118 - val_accuracy: 0.6051\n",
            "Epoch 4/10\n",
            "1250/1250 [==============================] - 51s 41ms/step - loss: 1.2088 - accuracy: 0.5749 - val_loss: 1.1172 - val_accuracy: 0.5987\n",
            "Epoch 5/10\n",
            "1250/1250 [==============================] - 53s 42ms/step - loss: 1.1399 - accuracy: 0.6021 - val_loss: 1.0079 - val_accuracy: 0.6415\n",
            "Epoch 6/10\n",
            "1250/1250 [==============================] - 58s 46ms/step - loss: 1.0739 - accuracy: 0.6268 - val_loss: 0.9592 - val_accuracy: 0.6616\n",
            "Epoch 7/10\n",
            "1250/1250 [==============================] - 52s 42ms/step - loss: 1.0230 - accuracy: 0.6439 - val_loss: 0.9544 - val_accuracy: 0.6674\n",
            "Epoch 8/10\n",
            "1250/1250 [==============================] - 51s 41ms/step - loss: 0.9832 - accuracy: 0.6569 - val_loss: 0.9325 - val_accuracy: 0.6734\n",
            "Epoch 9/10\n",
            "1250/1250 [==============================] - 59s 47ms/step - loss: 0.9425 - accuracy: 0.6733 - val_loss: 0.9325 - val_accuracy: 0.6793\n",
            "Epoch 10/10\n",
            "1250/1250 [==============================] - 52s 41ms/step - loss: 0.9147 - accuracy: 0.6846 - val_loss: 0.9181 - val_accuracy: 0.6763\n",
            "313/313 [==============================] - 4s 11ms/step - loss: 0.9259 - accuracy: 0.6752\n",
            "Test Accuracy: 0.6751999855041504\n"
          ]
        }
      ]
    },
    {
      "cell_type": "code",
      "source": [
        "from flask import Flask, request, jsonify\n",
        "import numpy as np\n",
        "\n",
        "app = Flask(__name__)\n",
        "\n",
        "@app.route('/predict', methods=['POST'])\n",
        "def predict():\n",
        "    data = request.json['image']\n",
        "    image = np.array(data)\n",
        "    image = image.reshape(1, 32, 32, 3)  # assuming input shape is (32, 32, 3)\n",
        "    prediction = model.predict(image)\n",
        "    class_idx = np.argmax(prediction)\n",
        "    return jsonify({'class_index': int(class_idx)})\n",
        "\n",
        "if __name__ == '__main__':\n",
        "    app.run(debug=True)\n"
      ],
      "metadata": {
        "colab": {
          "base_uri": "https://localhost:8080/"
        },
        "id": "Kw3HauItxZjM",
        "outputId": "a7aa2900-7ccd-4788-a97c-ffbce07f101d"
      },
      "execution_count": 4,
      "outputs": [
        {
          "metadata": {
            "tags": null
          },
          "name": "stdout",
          "output_type": "stream",
          "text": [
            " * Serving Flask app '__main__'\n",
            " * Debug mode: on\n"
          ]
        },
        {
          "metadata": {
            "tags": null
          },
          "name": "stderr",
          "output_type": "stream",
          "text": [
            "INFO:werkzeug:\u001b[31m\u001b[1mWARNING: This is a development server. Do not use it in a production deployment. Use a production WSGI server instead.\u001b[0m\n",
            " * Running on http://127.0.0.1:5000\n",
            "INFO:werkzeug:\u001b[33mPress CTRL+C to quit\u001b[0m\n",
            "INFO:werkzeug: * Restarting with stat\n"
          ]
        }
      ]
    }
  ]
}